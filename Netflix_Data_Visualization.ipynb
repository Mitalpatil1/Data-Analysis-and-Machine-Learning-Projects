{
 "cells": [
  {
   "cell_type": "code",
   "execution_count": 33,
   "metadata": {
    "_cell_guid": "b1076dfc-b9ad-4769-8c92-a6c4dae69d19",
    "_uuid": "8f2839f25d086af736a60e9eeb907d3b93b6e0e5",
    "execution": {
     "iopub.execute_input": "2021-03-05T13:22:35.540456Z",
     "iopub.status.busy": "2021-03-05T13:22:35.539579Z",
     "iopub.status.idle": "2021-03-05T13:22:36.674544Z",
     "shell.execute_reply": "2021-03-05T13:22:36.675136Z"
    },
    "papermill": {
     "duration": 1.174571,
     "end_time": "2021-03-05T13:22:36.675340",
     "exception": false,
     "start_time": "2021-03-05T13:22:35.500769",
     "status": "completed"
    },
    "tags": []
   },
   "outputs": [],
   "source": [
    "import numpy as np\n",
    "import pandas as pd \n",
    "import seaborn as sns\n",
    "import matplotlib.pyplot as plt\n",
    "from collections import Counter\n",
    "import warnings\n",
    "warnings.filterwarnings(\"ignore\")\n",
    "%matplotlib inline"
   ]
  },
  {
   "cell_type": "markdown",
   "metadata": {
    "papermill": {
     "duration": 0.034818,
     "end_time": "2021-03-05T13:22:36.746075",
     "exception": false,
     "start_time": "2021-03-05T13:22:36.711257",
     "status": "completed"
    },
    "tags": []
   },
   "source": [
    "# Load and Check Data"
   ]
  },
  {
   "cell_type": "code",
   "execution_count": 3,
   "metadata": {
    "_cell_guid": "79c7e3d0-c299-4dcb-8224-4455121ee9b0",
    "_uuid": "d629ff2d2480ee46fbb7e2d37f6b5fab8052498a",
    "execution": {
     "iopub.execute_input": "2021-03-05T13:22:36.823115Z",
     "iopub.status.busy": "2021-03-05T13:22:36.822388Z",
     "iopub.status.idle": "2021-03-05T13:22:36.933195Z",
     "shell.execute_reply": "2021-03-05T13:22:36.932492Z"
    },
    "papermill": {
     "duration": 0.152322,
     "end_time": "2021-03-05T13:22:36.933325",
     "exception": false,
     "start_time": "2021-03-05T13:22:36.781003",
     "status": "completed"
    },
    "tags": []
   },
   "outputs": [],
   "source": [
    "# Read data\n",
    "netflix = pd.read_csv(\"netflix_titles.csv\")"
   ]
  },
  {
   "cell_type": "code",
   "execution_count": 4,
   "metadata": {
    "execution": {
     "iopub.execute_input": "2021-03-05T13:22:37.025851Z",
     "iopub.status.busy": "2021-03-05T13:22:37.024858Z",
     "iopub.status.idle": "2021-03-05T13:22:37.038157Z",
     "shell.execute_reply": "2021-03-05T13:22:37.038725Z"
    },
    "papermill": {
     "duration": 0.070321,
     "end_time": "2021-03-05T13:22:37.038871",
     "exception": false,
     "start_time": "2021-03-05T13:22:36.968550",
     "status": "completed"
    },
    "tags": []
   },
   "outputs": [
    {
     "data": {
      "text/html": [
       "<div>\n",
       "<style scoped>\n",
       "    .dataframe tbody tr th:only-of-type {\n",
       "        vertical-align: middle;\n",
       "    }\n",
       "\n",
       "    .dataframe tbody tr th {\n",
       "        vertical-align: top;\n",
       "    }\n",
       "\n",
       "    .dataframe thead th {\n",
       "        text-align: right;\n",
       "    }\n",
       "</style>\n",
       "<table border=\"1\" class=\"dataframe\">\n",
       "  <thead>\n",
       "    <tr style=\"text-align: right;\">\n",
       "      <th></th>\n",
       "      <th>show_id</th>\n",
       "      <th>type</th>\n",
       "      <th>title</th>\n",
       "      <th>director</th>\n",
       "      <th>cast</th>\n",
       "      <th>country</th>\n",
       "      <th>date_added</th>\n",
       "      <th>release_year</th>\n",
       "      <th>rating</th>\n",
       "      <th>duration</th>\n",
       "      <th>listed_in</th>\n",
       "      <th>description</th>\n",
       "    </tr>\n",
       "  </thead>\n",
       "  <tbody>\n",
       "    <tr>\n",
       "      <th>0</th>\n",
       "      <td>s1</td>\n",
       "      <td>TV Show</td>\n",
       "      <td>3%</td>\n",
       "      <td>NaN</td>\n",
       "      <td>João Miguel, Bianca Comparato, Michel Gomes, R...</td>\n",
       "      <td>Brazil</td>\n",
       "      <td>August 14, 2020</td>\n",
       "      <td>2020</td>\n",
       "      <td>TV-MA</td>\n",
       "      <td>4 Seasons</td>\n",
       "      <td>International TV Shows, TV Dramas, TV Sci-Fi &amp;...</td>\n",
       "      <td>In a future where the elite inhabit an island ...</td>\n",
       "    </tr>\n",
       "    <tr>\n",
       "      <th>1</th>\n",
       "      <td>s2</td>\n",
       "      <td>Movie</td>\n",
       "      <td>7:19</td>\n",
       "      <td>Jorge Michel Grau</td>\n",
       "      <td>Demián Bichir, Héctor Bonilla, Oscar Serrano, ...</td>\n",
       "      <td>Mexico</td>\n",
       "      <td>December 23, 2016</td>\n",
       "      <td>2016</td>\n",
       "      <td>TV-MA</td>\n",
       "      <td>93 min</td>\n",
       "      <td>Dramas, International Movies</td>\n",
       "      <td>After a devastating earthquake hits Mexico Cit...</td>\n",
       "    </tr>\n",
       "    <tr>\n",
       "      <th>2</th>\n",
       "      <td>s3</td>\n",
       "      <td>Movie</td>\n",
       "      <td>23:59</td>\n",
       "      <td>Gilbert Chan</td>\n",
       "      <td>Tedd Chan, Stella Chung, Henley Hii, Lawrence ...</td>\n",
       "      <td>Singapore</td>\n",
       "      <td>December 20, 2018</td>\n",
       "      <td>2011</td>\n",
       "      <td>R</td>\n",
       "      <td>78 min</td>\n",
       "      <td>Horror Movies, International Movies</td>\n",
       "      <td>When an army recruit is found dead, his fellow...</td>\n",
       "    </tr>\n",
       "    <tr>\n",
       "      <th>3</th>\n",
       "      <td>s4</td>\n",
       "      <td>Movie</td>\n",
       "      <td>9</td>\n",
       "      <td>Shane Acker</td>\n",
       "      <td>Elijah Wood, John C. Reilly, Jennifer Connelly...</td>\n",
       "      <td>United States</td>\n",
       "      <td>November 16, 2017</td>\n",
       "      <td>2009</td>\n",
       "      <td>PG-13</td>\n",
       "      <td>80 min</td>\n",
       "      <td>Action &amp; Adventure, Independent Movies, Sci-Fi...</td>\n",
       "      <td>In a postapocalyptic world, rag-doll robots hi...</td>\n",
       "    </tr>\n",
       "    <tr>\n",
       "      <th>4</th>\n",
       "      <td>s5</td>\n",
       "      <td>Movie</td>\n",
       "      <td>21</td>\n",
       "      <td>Robert Luketic</td>\n",
       "      <td>Jim Sturgess, Kevin Spacey, Kate Bosworth, Aar...</td>\n",
       "      <td>United States</td>\n",
       "      <td>January 1, 2020</td>\n",
       "      <td>2008</td>\n",
       "      <td>PG-13</td>\n",
       "      <td>123 min</td>\n",
       "      <td>Dramas</td>\n",
       "      <td>A brilliant group of students become card-coun...</td>\n",
       "    </tr>\n",
       "  </tbody>\n",
       "</table>\n",
       "</div>"
      ],
      "text/plain": [
       "  show_id     type  title           director  \\\n",
       "0      s1  TV Show     3%                NaN   \n",
       "1      s2    Movie   7:19  Jorge Michel Grau   \n",
       "2      s3    Movie  23:59       Gilbert Chan   \n",
       "3      s4    Movie      9        Shane Acker   \n",
       "4      s5    Movie     21     Robert Luketic   \n",
       "\n",
       "                                                cast        country  \\\n",
       "0  João Miguel, Bianca Comparato, Michel Gomes, R...         Brazil   \n",
       "1  Demián Bichir, Héctor Bonilla, Oscar Serrano, ...         Mexico   \n",
       "2  Tedd Chan, Stella Chung, Henley Hii, Lawrence ...      Singapore   \n",
       "3  Elijah Wood, John C. Reilly, Jennifer Connelly...  United States   \n",
       "4  Jim Sturgess, Kevin Spacey, Kate Bosworth, Aar...  United States   \n",
       "\n",
       "          date_added  release_year rating   duration  \\\n",
       "0    August 14, 2020          2020  TV-MA  4 Seasons   \n",
       "1  December 23, 2016          2016  TV-MA     93 min   \n",
       "2  December 20, 2018          2011      R     78 min   \n",
       "3  November 16, 2017          2009  PG-13     80 min   \n",
       "4    January 1, 2020          2008  PG-13    123 min   \n",
       "\n",
       "                                           listed_in  \\\n",
       "0  International TV Shows, TV Dramas, TV Sci-Fi &...   \n",
       "1                       Dramas, International Movies   \n",
       "2                Horror Movies, International Movies   \n",
       "3  Action & Adventure, Independent Movies, Sci-Fi...   \n",
       "4                                             Dramas   \n",
       "\n",
       "                                         description  \n",
       "0  In a future where the elite inhabit an island ...  \n",
       "1  After a devastating earthquake hits Mexico Cit...  \n",
       "2  When an army recruit is found dead, his fellow...  \n",
       "3  In a postapocalyptic world, rag-doll robots hi...  \n",
       "4  A brilliant group of students become card-coun...  "
      ]
     },
     "execution_count": 4,
     "metadata": {},
     "output_type": "execute_result"
    }
   ],
   "source": [
    "netflix.head()"
   ]
  },
  {
   "cell_type": "markdown",
   "metadata": {},
   "source": [
    "1. Show_id : Unique ID for every Movie / Tv Show\n",
    "1. Type : Identifier - A Movie or TV Show\n",
    "1. Title : Title of the Movie / Tv Show\n",
    "1. Director: Director of the Movie\n",
    "1. Cast : Actors involved in the movie / show\n",
    "1. Country : Country where the movie / show was produced \n",
    "1. Date_added : Date it was added on Netflix\n",
    "1. Release_year :Actual Release year of the move / show\n",
    "1. Rating: TV Rating of the movie / show\n",
    "1. Duration: Total Duration - in minutes or number of seasons\n",
    "1. Listed_in : Genre\n",
    "1. Description: The summary description"
   ]
  },
  {
   "cell_type": "code",
   "execution_count": 8,
   "metadata": {
    "execution": {
     "iopub.execute_input": "2021-03-05T13:22:37.119017Z",
     "iopub.status.busy": "2021-03-05T13:22:37.118075Z",
     "iopub.status.idle": "2021-03-05T13:22:37.123615Z",
     "shell.execute_reply": "2021-03-05T13:22:37.122918Z"
    },
    "papermill": {
     "duration": 0.048866,
     "end_time": "2021-03-05T13:22:37.123746",
     "exception": false,
     "start_time": "2021-03-05T13:22:37.074880",
     "status": "completed"
    },
    "tags": []
   },
   "outputs": [],
   "source": [
    "netflix_shows=netflix[netflix['type']=='TV Show']"
   ]
  },
  {
   "cell_type": "code",
   "execution_count": 9,
   "metadata": {
    "execution": {
     "iopub.execute_input": "2021-03-05T13:22:37.205215Z",
     "iopub.status.busy": "2021-03-05T13:22:37.203355Z",
     "iopub.status.idle": "2021-03-05T13:22:37.210255Z",
     "shell.execute_reply": "2021-03-05T13:22:37.209406Z"
    },
    "papermill": {
     "duration": 0.050398,
     "end_time": "2021-03-05T13:22:37.210392",
     "exception": false,
     "start_time": "2021-03-05T13:22:37.159994",
     "status": "completed"
    },
    "tags": []
   },
   "outputs": [],
   "source": [
    "netflix_movies=netflix[netflix['type']=='Movie']"
   ]
  },
  {
   "cell_type": "code",
   "execution_count": 11,
   "metadata": {
    "execution": {
     "iopub.execute_input": "2021-03-05T13:22:37.371629Z",
     "iopub.status.busy": "2021-03-05T13:22:37.370626Z",
     "iopub.status.idle": "2021-03-05T13:22:37.383868Z",
     "shell.execute_reply": "2021-03-05T13:22:37.384483Z"
    },
    "papermill": {
     "duration": 0.065214,
     "end_time": "2021-03-05T13:22:37.384643",
     "exception": false,
     "start_time": "2021-03-05T13:22:37.319429",
     "status": "completed"
    },
    "tags": []
   },
   "outputs": [
    {
     "name": "stdout",
     "output_type": "stream",
     "text": [
      "<class 'pandas.core.frame.DataFrame'>\n",
      "RangeIndex: 7787 entries, 0 to 7786\n",
      "Data columns (total 12 columns):\n",
      " #   Column        Non-Null Count  Dtype \n",
      "---  ------        --------------  ----- \n",
      " 0   show_id       7787 non-null   object\n",
      " 1   type          7787 non-null   object\n",
      " 2   title         7787 non-null   object\n",
      " 3   director      5398 non-null   object\n",
      " 4   cast          7069 non-null   object\n",
      " 5   country       7280 non-null   object\n",
      " 6   date_added    7777 non-null   object\n",
      " 7   release_year  7787 non-null   int64 \n",
      " 8   rating        7780 non-null   object\n",
      " 9   duration      7787 non-null   object\n",
      " 10  listed_in     7787 non-null   object\n",
      " 11  description   7787 non-null   object\n",
      "dtypes: int64(1), object(11)\n",
      "memory usage: 730.2+ KB\n"
     ]
    }
   ],
   "source": [
    "netflix.info()"
   ]
  },
  {
   "cell_type": "markdown",
   "metadata": {
    "papermill": {
     "duration": 0.036478,
     "end_time": "2021-03-05T13:22:37.458210",
     "exception": false,
     "start_time": "2021-03-05T13:22:37.421732",
     "status": "completed"
    },
    "tags": []
   },
   "source": [
    "# Data Cleaning"
   ]
  },
  {
   "cell_type": "markdown",
   "metadata": {
    "papermill": {
     "duration": 0.037571,
     "end_time": "2021-03-05T13:22:37.532843",
     "exception": false,
     "start_time": "2021-03-05T13:22:37.495272",
     "status": "completed"
    },
    "tags": []
   },
   "source": [
    "### Find Missing Values"
   ]
  },
  {
   "cell_type": "code",
   "execution_count": 13,
   "metadata": {
    "execution": {
     "iopub.execute_input": "2021-03-05T13:22:37.623512Z",
     "iopub.status.busy": "2021-03-05T13:22:37.620535Z",
     "iopub.status.idle": "2021-03-05T13:22:37.627614Z",
     "shell.execute_reply": "2021-03-05T13:22:37.626948Z"
    },
    "papermill": {
     "duration": 0.057916,
     "end_time": "2021-03-05T13:22:37.627733",
     "exception": false,
     "start_time": "2021-03-05T13:22:37.569817",
     "status": "completed"
    },
    "tags": []
   },
   "outputs": [
    {
     "data": {
      "text/plain": [
       "show_id            0\n",
       "type               0\n",
       "title              0\n",
       "director        2389\n",
       "cast             718\n",
       "country          507\n",
       "date_added        10\n",
       "release_year       0\n",
       "rating             7\n",
       "duration           0\n",
       "listed_in          0\n",
       "description        0\n",
       "dtype: int64"
      ]
     },
     "execution_count": 13,
     "metadata": {},
     "output_type": "execute_result"
    }
   ],
   "source": [
    "#Checking for null values\n",
    "netflix.isnull().sum() "
   ]
  },
  {
   "cell_type": "code",
   "execution_count": 16,
   "metadata": {
    "execution": {
     "iopub.execute_input": "2021-03-05T13:22:37.707534Z",
     "iopub.status.busy": "2021-03-05T13:22:37.706431Z",
     "iopub.status.idle": "2021-03-05T13:22:37.740127Z",
     "shell.execute_reply": "2021-03-05T13:22:37.739437Z"
    },
    "papermill": {
     "duration": 0.07523,
     "end_time": "2021-03-05T13:22:37.740245",
     "exception": false,
     "start_time": "2021-03-05T13:22:37.665015",
     "status": "completed"
    },
    "tags": []
   },
   "outputs": [
    {
     "data": {
      "text/plain": [
       "show_id         7787\n",
       "type               2\n",
       "title           7787\n",
       "director        4049\n",
       "cast            6831\n",
       "country          681\n",
       "date_added      1565\n",
       "release_year      73\n",
       "rating            14\n",
       "duration         216\n",
       "listed_in        492\n",
       "description     7769\n",
       "dtype: int64"
      ]
     },
     "execution_count": 16,
     "metadata": {},
     "output_type": "execute_result"
    }
   ],
   "source": [
    "#Checking for unique values\n",
    "netflix.nunique()"
   ]
  },
  {
   "cell_type": "markdown",
   "metadata": {
    "papermill": {
     "duration": 0.038407,
     "end_time": "2021-03-05T13:22:37.817780",
     "exception": false,
     "start_time": "2021-03-05T13:22:37.779373",
     "status": "completed"
    },
    "tags": []
   },
   "source": [
    "In order to visualize missing data, we can use :\n",
    "* sns.heatmap "
   ]
  },
  {
   "cell_type": "code",
   "execution_count": 18,
   "metadata": {
    "execution": {
     "iopub.execute_input": "2021-03-05T13:22:37.909919Z",
     "iopub.status.busy": "2021-03-05T13:22:37.908823Z",
     "iopub.status.idle": "2021-03-05T13:22:38.434962Z",
     "shell.execute_reply": "2021-03-05T13:22:38.435473Z"
    },
    "papermill": {
     "duration": 0.579558,
     "end_time": "2021-03-05T13:22:38.435673",
     "exception": false,
     "start_time": "2021-03-05T13:22:37.856115",
     "status": "completed"
    },
    "tags": []
   },
   "outputs": [
    {
     "data": {
      "image/png": "[encoded data removed]",
      "text/plain": [
       "<Figure size 432x288 with 2 Axes>"
      ]
     },
     "metadata": {
      "needs_background": "light"
     },
     "output_type": "display_data"
    }
   ],
   "source": [
    "sns.heatmap(netflix.isnull())\n",
    "plt.title('Null Values Heatmap')\n",
    "plt.show()"
   ]
  },
  {
   "cell_type": "markdown",
   "metadata": {
    "papermill": {
     "duration": 0.038642,
     "end_time": "2021-03-05T13:22:38.514629",
     "exception": false,
     "start_time": "2021-03-05T13:22:38.475987",
     "status": "completed"
    },
    "tags": []
   },
   "source": [
    "There are a below columns that contain null values:- <br> \n",
    "1.'director',<br>\n",
    "2.'cast',<br>\n",
    "3.'country', <br>\n",
    "4.'date_added', <br>\n",
    "5.'rating'.<br>"
   ]
  },
  {
   "cell_type": "markdown",
   "metadata": {
    "papermill": {
     "duration": 0.040473,
     "end_time": "2021-03-05T13:22:39.700647",
     "exception": false,
     "start_time": "2021-03-05T13:22:39.660174",
     "status": "completed"
    },
    "tags": []
   },
   "source": [
    "## Fill Missing Values"
   ]
  },
  {
   "cell_type": "markdown",
   "metadata": {
    "papermill": {
     "duration": 0.040609,
     "end_time": "2021-03-05T13:22:39.781964",
     "exception": false,
     "start_time": "2021-03-05T13:22:39.741355",
     "status": "completed"
    },
    "tags": []
   },
   "source": [
    "<ul>\n",
    "    <li>Drop id column</li>\n",
    "    <li>For the missing rows in date_added column, replace them by January 1,{release_year}</li>\n",
    "    <li>We have 10 missing values in rating column, replace them with TV-MA which is the most common rating</li>\n",
    "    <li>For the missing values in country, replace them with United States.Instead of removing the entire column, we chose to fill in the missing values in this way to avoid losing data. \n",
    "    <li>Drop the director and cast columns completely. We are only focused on visualizing this data hence dropping two columns wont be any trouble for us.But this should not be a regular practise as if we are making a recommender system, we cannot drop the director and cast of a movie as these are a key feature used to recommend movies to users.    \n",
    "</ul>"
   ]
  },
  {
   "cell_type": "code",
   "execution_count": 19,
   "metadata": {
    "execution": {
     "iopub.execute_input": "2021-03-05T13:22:39.871580Z",
     "iopub.status.busy": "2021-03-05T13:22:39.868299Z",
     "iopub.status.idle": "2021-03-05T13:22:39.874860Z",
     "shell.execute_reply": "2021-03-05T13:22:39.874197Z"
    },
    "papermill": {
     "duration": 0.052548,
     "end_time": "2021-03-05T13:22:39.874975",
     "exception": false,
     "start_time": "2021-03-05T13:22:39.822427",
     "status": "completed"
    },
    "tags": []
   },
   "outputs": [],
   "source": [
    "# drop id column\n",
    "netflix.drop('show_id',axis=1, inplace = True)"
   ]
  },
  {
   "cell_type": "code",
   "execution_count": 21,
   "metadata": {
    "execution": {
     "iopub.execute_input": "2021-03-05T13:22:39.966163Z",
     "iopub.status.busy": "2021-03-05T13:22:39.965450Z",
     "iopub.status.idle": "2021-03-05T13:22:39.968641Z",
     "shell.execute_reply": "2021-03-05T13:22:39.967943Z"
    },
    "papermill": {
     "duration": 0.052975,
     "end_time": "2021-03-05T13:22:39.968812",
     "exception": false,
     "start_time": "2021-03-05T13:22:39.915837",
     "status": "completed"
    },
    "tags": []
   },
   "outputs": [],
   "source": [
    "# Replace nan values in data_added with January 1,{release_year}\n",
    "netflix['date_added']=netflix['date_added'].fillna('January 1, {}'.format(str(netflix['release_year'].mode()[0])))"
   ]
  },
  {
   "cell_type": "code",
   "execution_count": 22,
   "metadata": {
    "execution": {
     "iopub.execute_input": "2021-03-05T13:22:40.060559Z",
     "iopub.status.busy": "2021-03-05T13:22:40.059761Z",
     "iopub.status.idle": "2021-03-05T13:22:40.063827Z",
     "shell.execute_reply": "2021-03-05T13:22:40.064373Z"
    },
    "papermill": {
     "duration": 0.054449,
     "end_time": "2021-03-05T13:22:40.064549",
     "exception": false,
     "start_time": "2021-03-05T13:22:40.010100",
     "status": "completed"
    },
    "tags": []
   },
   "outputs": [
    {
     "data": {
      "text/plain": [
       "0"
      ]
     },
     "execution_count": 22,
     "metadata": {},
     "output_type": "execute_result"
    }
   ],
   "source": [
    "netflix['date_added'].isnull().sum() "
   ]
  },
  {
   "cell_type": "code",
   "execution_count": 23,
   "metadata": {
    "execution": {
     "iopub.execute_input": "2021-03-05T13:22:40.175713Z",
     "iopub.status.busy": "2021-03-05T13:22:40.167736Z",
     "iopub.status.idle": "2021-03-05T13:22:40.181165Z",
     "shell.execute_reply": "2021-03-05T13:22:40.180584Z"
    },
    "papermill": {
     "duration": 0.075059,
     "end_time": "2021-03-05T13:22:40.181283",
     "exception": false,
     "start_time": "2021-03-05T13:22:40.106224",
     "status": "completed"
    },
    "tags": []
   },
   "outputs": [
    {
     "data": {
      "text/html": [
       "<div>\n",
       "<style scoped>\n",
       "    .dataframe tbody tr th:only-of-type {\n",
       "        vertical-align: middle;\n",
       "    }\n",
       "\n",
       "    .dataframe tbody tr th {\n",
       "        vertical-align: top;\n",
       "    }\n",
       "\n",
       "    .dataframe thead th {\n",
       "        text-align: right;\n",
       "    }\n",
       "</style>\n",
       "<table border=\"1\" class=\"dataframe\">\n",
       "  <thead>\n",
       "    <tr style=\"text-align: right;\">\n",
       "      <th></th>\n",
       "      <th>type</th>\n",
       "      <th>title</th>\n",
       "      <th>director</th>\n",
       "      <th>cast</th>\n",
       "      <th>country</th>\n",
       "      <th>date_added</th>\n",
       "      <th>release_year</th>\n",
       "      <th>rating</th>\n",
       "      <th>duration</th>\n",
       "      <th>listed_in</th>\n",
       "      <th>description</th>\n",
       "      <th>release_month</th>\n",
       "    </tr>\n",
       "  </thead>\n",
       "  <tbody>\n",
       "    <tr>\n",
       "      <th>0</th>\n",
       "      <td>TV Show</td>\n",
       "      <td>3%</td>\n",
       "      <td>NaN</td>\n",
       "      <td>João Miguel, Bianca Comparato, Michel Gomes, R...</td>\n",
       "      <td>Brazil</td>\n",
       "      <td>August 14, 2020</td>\n",
       "      <td>2020</td>\n",
       "      <td>TV-MA</td>\n",
       "      <td>4 Seasons</td>\n",
       "      <td>International TV Shows, TV Dramas, TV Sci-Fi &amp;...</td>\n",
       "      <td>In a future where the elite inhabit an island ...</td>\n",
       "      <td>August</td>\n",
       "    </tr>\n",
       "    <tr>\n",
       "      <th>1</th>\n",
       "      <td>Movie</td>\n",
       "      <td>7:19</td>\n",
       "      <td>Jorge Michel Grau</td>\n",
       "      <td>Demián Bichir, Héctor Bonilla, Oscar Serrano, ...</td>\n",
       "      <td>Mexico</td>\n",
       "      <td>December 23, 2016</td>\n",
       "      <td>2016</td>\n",
       "      <td>TV-MA</td>\n",
       "      <td>93 min</td>\n",
       "      <td>Dramas, International Movies</td>\n",
       "      <td>After a devastating earthquake hits Mexico Cit...</td>\n",
       "      <td>December</td>\n",
       "    </tr>\n",
       "    <tr>\n",
       "      <th>2</th>\n",
       "      <td>Movie</td>\n",
       "      <td>23:59</td>\n",
       "      <td>Gilbert Chan</td>\n",
       "      <td>Tedd Chan, Stella Chung, Henley Hii, Lawrence ...</td>\n",
       "      <td>Singapore</td>\n",
       "      <td>December 20, 2018</td>\n",
       "      <td>2011</td>\n",
       "      <td>R</td>\n",
       "      <td>78 min</td>\n",
       "      <td>Horror Movies, International Movies</td>\n",
       "      <td>When an army recruit is found dead, his fellow...</td>\n",
       "      <td>December</td>\n",
       "    </tr>\n",
       "    <tr>\n",
       "      <th>3</th>\n",
       "      <td>Movie</td>\n",
       "      <td>9</td>\n",
       "      <td>Shane Acker</td>\n",
       "      <td>Elijah Wood, John C. Reilly, Jennifer Connelly...</td>\n",
       "      <td>United States</td>\n",
       "      <td>November 16, 2017</td>\n",
       "      <td>2009</td>\n",
       "      <td>PG-13</td>\n",
       "      <td>80 min</td>\n",
       "      <td>Action &amp; Adventure, Independent Movies, Sci-Fi...</td>\n",
       "      <td>In a postapocalyptic world, rag-doll robots hi...</td>\n",
       "      <td>November</td>\n",
       "    </tr>\n",
       "    <tr>\n",
       "      <th>4</th>\n",
       "      <td>Movie</td>\n",
       "      <td>21</td>\n",
       "      <td>Robert Luketic</td>\n",
       "      <td>Jim Sturgess, Kevin Spacey, Kate Bosworth, Aar...</td>\n",
       "      <td>United States</td>\n",
       "      <td>January 1, 2020</td>\n",
       "      <td>2008</td>\n",
       "      <td>PG-13</td>\n",
       "      <td>123 min</td>\n",
       "      <td>Dramas</td>\n",
       "      <td>A brilliant group of students become card-coun...</td>\n",
       "      <td>January</td>\n",
       "    </tr>\n",
       "  </tbody>\n",
       "</table>\n",
       "</div>"
      ],
      "text/plain": [
       "      type  title           director  \\\n",
       "0  TV Show     3%                NaN   \n",
       "1    Movie   7:19  Jorge Michel Grau   \n",
       "2    Movie  23:59       Gilbert Chan   \n",
       "3    Movie      9        Shane Acker   \n",
       "4    Movie     21     Robert Luketic   \n",
       "\n",
       "                                                cast        country  \\\n",
       "0  João Miguel, Bianca Comparato, Michel Gomes, R...         Brazil   \n",
       "1  Demián Bichir, Héctor Bonilla, Oscar Serrano, ...         Mexico   \n",
       "2  Tedd Chan, Stella Chung, Henley Hii, Lawrence ...      Singapore   \n",
       "3  Elijah Wood, John C. Reilly, Jennifer Connelly...  United States   \n",
       "4  Jim Sturgess, Kevin Spacey, Kate Bosworth, Aar...  United States   \n",
       "\n",
       "          date_added  release_year rating   duration  \\\n",
       "0    August 14, 2020          2020  TV-MA  4 Seasons   \n",
       "1  December 23, 2016          2016  TV-MA     93 min   \n",
       "2  December 20, 2018          2011      R     78 min   \n",
       "3  November 16, 2017          2009  PG-13     80 min   \n",
       "4    January 1, 2020          2008  PG-13    123 min   \n",
       "\n",
       "                                           listed_in  \\\n",
       "0  International TV Shows, TV Dramas, TV Sci-Fi &...   \n",
       "1                       Dramas, International Movies   \n",
       "2                Horror Movies, International Movies   \n",
       "3  Action & Adventure, Independent Movies, Sci-Fi...   \n",
       "4                                             Dramas   \n",
       "\n",
       "                                         description release_month  \n",
       "0  In a future where the elite inhabit an island ...        August  \n",
       "1  After a devastating earthquake hits Mexico Cit...      December  \n",
       "2  When an army recruit is found dead, his fellow...      December  \n",
       "3  In a postapocalyptic world, rag-doll robots hi...      November  \n",
       "4  A brilliant group of students become card-coun...       January  "
      ]
     },
     "execution_count": 23,
     "metadata": {},
     "output_type": "execute_result"
    }
   ],
   "source": [
    "netflix[\"release_month\"] = netflix['date_added'].apply(lambda x: x.lstrip().split(\" \")[0])\n",
    "netflix.head()"
   ]
  },
  {
   "cell_type": "code",
   "execution_count": 24,
   "metadata": {
    "execution": {
     "iopub.execute_input": "2021-03-05T13:22:40.277297Z",
     "iopub.status.busy": "2021-03-05T13:22:40.276594Z",
     "iopub.status.idle": "2021-03-05T13:22:40.280720Z",
     "shell.execute_reply": "2021-03-05T13:22:40.281261Z"
    },
    "papermill": {
     "duration": 0.056859,
     "end_time": "2021-03-05T13:22:40.281415",
     "exception": false,
     "start_time": "2021-03-05T13:22:40.224556",
     "status": "completed"
    },
    "tags": []
   },
   "outputs": [
    {
     "data": {
      "text/plain": [
       "TV-MA       2863\n",
       "TV-14       1931\n",
       "TV-PG        806\n",
       "R            665\n",
       "PG-13        386\n",
       "TV-Y         280\n",
       "TV-Y7        271\n",
       "PG           247\n",
       "TV-G         194\n",
       "NR            84\n",
       "G             39\n",
       "TV-Y7-FV       6\n",
       "UR             5\n",
       "NC-17          3\n",
       "Name: rating, dtype: int64"
      ]
     },
     "execution_count": 24,
     "metadata": {},
     "output_type": "execute_result"
    }
   ],
   "source": [
    "netflix['rating'].value_counts()"
   ]
  },
  {
   "cell_type": "code",
   "execution_count": 25,
   "metadata": {
    "execution": {
     "iopub.execute_input": "2021-03-05T13:22:40.370745Z",
     "iopub.status.busy": "2021-03-05T13:22:40.370059Z",
     "iopub.status.idle": "2021-03-05T13:22:40.376237Z",
     "shell.execute_reply": "2021-03-05T13:22:40.376803Z"
    },
    "papermill": {
     "duration": 0.052526,
     "end_time": "2021-03-05T13:22:40.376964",
     "exception": false,
     "start_time": "2021-03-05T13:22:40.324438",
     "status": "completed"
    },
    "tags": []
   },
   "outputs": [],
   "source": [
    "#  Replace nan values in rating with TV-MA\n",
    "netflix['rating'].replace(np.nan, 'TV-MA',inplace  = True)"
   ]
  },
  {
   "cell_type": "code",
   "execution_count": 26,
   "metadata": {
    "execution": {
     "iopub.execute_input": "2021-03-05T13:22:40.467735Z",
     "iopub.status.busy": "2021-03-05T13:22:40.467071Z",
     "iopub.status.idle": "2021-03-05T13:22:40.477248Z",
     "shell.execute_reply": "2021-03-05T13:22:40.477781Z"
    },
    "papermill": {
     "duration": 0.056546,
     "end_time": "2021-03-05T13:22:40.477940",
     "exception": false,
     "start_time": "2021-03-05T13:22:40.421394",
     "status": "completed"
    },
    "tags": []
   },
   "outputs": [
    {
     "data": {
      "text/plain": [
       "United States                             2555\n",
       "India                                      923\n",
       "United Kingdom                             397\n",
       "Japan                                      226\n",
       "South Korea                                183\n",
       "                                          ... \n",
       "Israel, Germany, France                      1\n",
       "United States, Canada, Ireland               1\n",
       "United Kingdom, Singapore                    1\n",
       "Canada, Germany, France, United States       1\n",
       "Canada, Belgium                              1\n",
       "Name: country, Length: 681, dtype: int64"
      ]
     },
     "execution_count": 26,
     "metadata": {},
     "output_type": "execute_result"
    }
   ],
   "source": [
    "netflix['country'].value_counts()"
   ]
  },
  {
   "cell_type": "code",
   "execution_count": 27,
   "metadata": {
    "execution": {
     "iopub.execute_input": "2021-03-05T13:22:40.570361Z",
     "iopub.status.busy": "2021-03-05T13:22:40.569682Z",
     "iopub.status.idle": "2021-03-05T13:22:40.575660Z",
     "shell.execute_reply": "2021-03-05T13:22:40.576222Z"
    },
    "papermill": {
     "duration": 0.054751,
     "end_time": "2021-03-05T13:22:40.576385",
     "exception": false,
     "start_time": "2021-03-05T13:22:40.521634",
     "status": "completed"
    },
    "tags": []
   },
   "outputs": [],
   "source": [
    "# Replace nan values in country with United States\n",
    "netflix['country'].replace(np.nan, 'United States',inplace  = True)"
   ]
  },
  {
   "cell_type": "code",
   "execution_count": 28,
   "metadata": {
    "execution": {
     "iopub.execute_input": "2021-03-05T13:22:40.667588Z",
     "iopub.status.busy": "2021-03-05T13:22:40.666945Z",
     "iopub.status.idle": "2021-03-05T13:22:40.676395Z",
     "shell.execute_reply": "2021-03-05T13:22:40.676903Z"
    },
    "papermill": {
     "duration": 0.056329,
     "end_time": "2021-03-05T13:22:40.677119",
     "exception": false,
     "start_time": "2021-03-05T13:22:40.620790",
     "status": "completed"
    },
    "tags": []
   },
   "outputs": [],
   "source": [
    "# Drop the director and cast columns completely.\n",
    "netflix.drop(['director','cast'],axis=1, inplace = True)"
   ]
  },
  {
   "cell_type": "code",
   "execution_count": 29,
   "metadata": {
    "execution": {
     "iopub.execute_input": "2021-03-05T13:22:40.771910Z",
     "iopub.status.busy": "2021-03-05T13:22:40.771245Z",
     "iopub.status.idle": "2021-03-05T13:22:40.787389Z",
     "shell.execute_reply": "2021-03-05T13:22:40.786855Z"
    },
    "papermill": {
     "duration": 0.066907,
     "end_time": "2021-03-05T13:22:40.787586",
     "exception": false,
     "start_time": "2021-03-05T13:22:40.720679",
     "status": "completed"
    },
    "tags": []
   },
   "outputs": [
    {
     "data": {
      "text/plain": [
       "type             0\n",
       "title            0\n",
       "country          0\n",
       "date_added       0\n",
       "release_year     0\n",
       "rating           0\n",
       "duration         0\n",
       "listed_in        0\n",
       "description      0\n",
       "release_month    0\n",
       "dtype: int64"
      ]
     },
     "execution_count": 29,
     "metadata": {},
     "output_type": "execute_result"
    }
   ],
   "source": [
    "netflix.isnull().sum()"
   ]
  },
  {
   "cell_type": "code",
   "execution_count": 30,
   "metadata": {
    "execution": {
     "iopub.execute_input": "2021-03-05T13:22:40.881040Z",
     "iopub.status.busy": "2021-03-05T13:22:40.880274Z",
     "iopub.status.idle": "2021-03-05T13:22:40.980411Z",
     "shell.execute_reply": "2021-03-05T13:22:40.980916Z"
    },
    "papermill": {
     "duration": 0.147986,
     "end_time": "2021-03-05T13:22:40.981068",
     "exception": false,
     "start_time": "2021-03-05T13:22:40.833082",
     "status": "completed"
    },
    "tags": []
   },
   "outputs": [
    {
     "data": {
      "text/html": [
       "<div>\n",
       "<style scoped>\n",
       "    .dataframe tbody tr th:only-of-type {\n",
       "        vertical-align: middle;\n",
       "    }\n",
       "\n",
       "    .dataframe tbody tr th {\n",
       "        vertical-align: top;\n",
       "    }\n",
       "\n",
       "    .dataframe thead th {\n",
       "        text-align: right;\n",
       "    }\n",
       "</style>\n",
       "<table border=\"1\" class=\"dataframe\">\n",
       "  <thead>\n",
       "    <tr style=\"text-align: right;\">\n",
       "      <th></th>\n",
       "      <th>type</th>\n",
       "      <th>title</th>\n",
       "      <th>country</th>\n",
       "      <th>date_added</th>\n",
       "      <th>release_year</th>\n",
       "      <th>rating</th>\n",
       "      <th>duration</th>\n",
       "      <th>listed_in</th>\n",
       "      <th>description</th>\n",
       "      <th>release_month</th>\n",
       "    </tr>\n",
       "  </thead>\n",
       "  <tbody>\n",
       "    <tr>\n",
       "      <th>0</th>\n",
       "      <td>TV Show</td>\n",
       "      <td>3%</td>\n",
       "      <td>Brazil</td>\n",
       "      <td>August 14, 2020</td>\n",
       "      <td>2020</td>\n",
       "      <td>TV-MA</td>\n",
       "      <td>4 Seasons</td>\n",
       "      <td>International TV Shows, TV Dramas, TV Sci-Fi &amp;...</td>\n",
       "      <td>In a future where the elite inhabit an island ...</td>\n",
       "      <td>August</td>\n",
       "    </tr>\n",
       "    <tr>\n",
       "      <th>1</th>\n",
       "      <td>Movie</td>\n",
       "      <td>7:19</td>\n",
       "      <td>Mexico</td>\n",
       "      <td>December 23, 2016</td>\n",
       "      <td>2016</td>\n",
       "      <td>TV-MA</td>\n",
       "      <td>93 min</td>\n",
       "      <td>Dramas, International Movies</td>\n",
       "      <td>After a devastating earthquake hits Mexico Cit...</td>\n",
       "      <td>December</td>\n",
       "    </tr>\n",
       "    <tr>\n",
       "      <th>2</th>\n",
       "      <td>Movie</td>\n",
       "      <td>23:59</td>\n",
       "      <td>Singapore</td>\n",
       "      <td>December 20, 2018</td>\n",
       "      <td>2011</td>\n",
       "      <td>R</td>\n",
       "      <td>78 min</td>\n",
       "      <td>Horror Movies, International Movies</td>\n",
       "      <td>When an army recruit is found dead, his fellow...</td>\n",
       "      <td>December</td>\n",
       "    </tr>\n",
       "    <tr>\n",
       "      <th>3</th>\n",
       "      <td>Movie</td>\n",
       "      <td>9</td>\n",
       "      <td>United States</td>\n",
       "      <td>November 16, 2017</td>\n",
       "      <td>2009</td>\n",
       "      <td>PG-13</td>\n",
       "      <td>80 min</td>\n",
       "      <td>Action &amp; Adventure, Independent Movies, Sci-Fi...</td>\n",
       "      <td>In a postapocalyptic world, rag-doll robots hi...</td>\n",
       "      <td>November</td>\n",
       "    </tr>\n",
       "    <tr>\n",
       "      <th>4</th>\n",
       "      <td>Movie</td>\n",
       "      <td>21</td>\n",
       "      <td>United States</td>\n",
       "      <td>January 1, 2020</td>\n",
       "      <td>2008</td>\n",
       "      <td>PG-13</td>\n",
       "      <td>123 min</td>\n",
       "      <td>Dramas</td>\n",
       "      <td>A brilliant group of students become card-coun...</td>\n",
       "      <td>January</td>\n",
       "    </tr>\n",
       "  </tbody>\n",
       "</table>\n",
       "</div>"
      ],
      "text/plain": [
       "      type  title        country         date_added  release_year rating  \\\n",
       "0  TV Show     3%         Brazil    August 14, 2020          2020  TV-MA   \n",
       "1    Movie   7:19         Mexico  December 23, 2016          2016  TV-MA   \n",
       "2    Movie  23:59      Singapore  December 20, 2018          2011      R   \n",
       "3    Movie      9  United States  November 16, 2017          2009  PG-13   \n",
       "4    Movie     21  United States    January 1, 2020          2008  PG-13   \n",
       "\n",
       "    duration                                          listed_in  \\\n",
       "0  4 Seasons  International TV Shows, TV Dramas, TV Sci-Fi &...   \n",
       "1     93 min                       Dramas, International Movies   \n",
       "2     78 min                Horror Movies, International Movies   \n",
       "3     80 min  Action & Adventure, Independent Movies, Sci-Fi...   \n",
       "4    123 min                                             Dramas   \n",
       "\n",
       "                                         description release_month  \n",
       "0  In a future where the elite inhabit an island ...        August  \n",
       "1  After a devastating earthquake hits Mexico Cit...      December  \n",
       "2  When an army recruit is found dead, his fellow...      December  \n",
       "3  In a postapocalyptic world, rag-doll robots hi...      November  \n",
       "4  A brilliant group of students become card-coun...       January  "
      ]
     },
     "execution_count": 30,
     "metadata": {},
     "output_type": "execute_result"
    }
   ],
   "source": [
    "netflix.head()"
   ]
  },
  {
   "cell_type": "markdown",
   "metadata": {
    "papermill": {
     "duration": 0.044578,
     "end_time": "2021-03-05T13:22:41.070752",
     "exception": false,
     "start_time": "2021-03-05T13:22:41.026174",
     "status": "completed"
    },
    "tags": []
   },
   "source": [
    "# Visualization"
   ]
  },
  {
   "cell_type": "markdown",
   "metadata": {
    "papermill": {
     "duration": 0.046717,
     "end_time": "2021-03-05T13:22:41.162401",
     "exception": false,
     "start_time": "2021-03-05T13:22:41.115684",
     "status": "completed"
    },
    "tags": []
   },
   "source": [
    "### Analysis of Movies vs TV Shows."
   ]
  },
  {
   "cell_type": "code",
   "execution_count": 55,
   "metadata": {
    "execution": {
     "iopub.execute_input": "2021-03-05T13:22:41.262916Z",
     "iopub.status.busy": "2021-03-05T13:22:41.262197Z",
     "iopub.status.idle": "2021-03-05T13:22:41.381689Z",
     "shell.execute_reply": "2021-03-05T13:22:41.381145Z"
    },
    "papermill": {
     "duration": 0.174438,
     "end_time": "2021-03-05T13:22:41.381810",
     "exception": false,
     "start_time": "2021-03-05T13:22:41.207372",
     "status": "completed"
    },
    "tags": []
   },
   "outputs": [
    {
     "name": "stdout",
     "output_type": "stream",
     "text": [
      "Movie      5377\n",
      "TV Show    2410\n",
      "Name: type, dtype: int64\n"
     ]
    },
    {
     "data": {
      "image/png": "[encoded data removed]",
      "text/plain": [
       "<Figure size 432x288 with 1 Axes>"
      ]
     },
     "metadata": {
      "needs_background": "light"
     },
     "output_type": "display_data"
    }
   ],
   "source": [
    "print(netflix.type.value_counts())\n",
    "sns.countplot(netflix.type,palette=\"Set2\")\n",
    "plt.show()"
   ]
  },
  {
   "cell_type": "markdown",
   "metadata": {
    "papermill": {
     "duration": 0.04621,
     "end_time": "2021-03-05T13:22:41.476236",
     "exception": false,
     "start_time": "2021-03-05T13:22:41.430026",
     "status": "completed"
    },
    "tags": []
   },
   "source": [
    "### Analysis of Ratings"
   ]
  },
  {
   "cell_type": "code",
   "execution_count": 56,
   "metadata": {
    "execution": {
     "iopub.execute_input": "2021-03-05T13:22:41.582566Z",
     "iopub.status.busy": "2021-03-05T13:22:41.581848Z",
     "iopub.status.idle": "2021-03-05T13:22:41.804286Z",
     "shell.execute_reply": "2021-03-05T13:22:41.804825Z"
    },
    "papermill": {
     "duration": 0.282811,
     "end_time": "2021-03-05T13:22:41.804984",
     "exception": false,
     "start_time": "2021-03-05T13:22:41.522173",
     "status": "completed"
    },
    "tags": []
   },
   "outputs": [
    {
     "name": "stdout",
     "output_type": "stream",
     "text": [
      "TV-MA       2870\n",
      "TV-14       1931\n",
      "TV-PG        806\n",
      "R            665\n",
      "PG-13        386\n",
      "TV-Y         280\n",
      "TV-Y7        271\n",
      "PG           247\n",
      "TV-G         194\n",
      "NR            84\n",
      "G             39\n",
      "TV-Y7-FV       6\n",
      "UR             5\n",
      "NC-17          3\n",
      "Name: rating, dtype: int64\n"
     ]
    },
    {
     "data": {
      "image/png": "[encoded data removed]",
      "text/plain": [
       "<Figure size 864x576 with 1 Axes>"
      ]
     },
     "metadata": {
      "needs_background": "light"
     },
     "output_type": "display_data"
    }
   ],
   "source": [
    "rating_counts = netflix.rating.value_counts()\n",
    "print(rating_counts)\n",
    "plt.figure(figsize = (12,8))\n",
    "sns.countplot(netflix.rating, order = rating_counts.index[0:15],palette=\"Set2\")\n",
    "plt.title(\"Ratings for Movies And Shows\")\n",
    "plt.xlabel(\"Rating\")\n",
    "plt.ylabel(\"Total Count\")\n",
    "plt.show()"
   ]
  },
  {
   "cell_type": "markdown",
   "metadata": {
    "papermill": {
     "duration": 0.047754,
     "end_time": "2021-03-05T13:22:41.900912",
     "exception": false,
     "start_time": "2021-03-05T13:22:41.853158",
     "status": "completed"
    },
    "tags": []
   },
   "source": [
    "> 1 -Programming rated TV-MA in the United States by the TV Parental Guidelines signifies content for mature audiences.\n",
    "> \n",
    "> 2 -Programming rated TV-14 in the United States TV Parental Guidelines signifies content with parents strongly cautioned. Content may be inappropriate for children younger than 14 years of age.\n",
    "> \n",
    "> 3 -An R-rated film is a film that has been assessed as having material which may be unsuitable for children under the age of 17."
   ]
  },
  {
   "cell_type": "code",
   "execution_count": 57,
   "metadata": {
    "execution": {
     "iopub.execute_input": "2021-03-05T13:22:42.003822Z",
     "iopub.status.busy": "2021-03-05T13:22:42.003033Z",
     "iopub.status.idle": "2021-03-05T13:22:42.146285Z",
     "shell.execute_reply": "2021-03-05T13:22:42.146831Z"
    },
    "papermill": {
     "duration": 0.198413,
     "end_time": "2021-03-05T13:22:42.146974",
     "exception": false,
     "start_time": "2021-03-05T13:22:41.948561",
     "status": "completed"
    },
    "tags": []
   },
   "outputs": [
    {
     "data": {
      "image/png": "[encoded data removed]",
      "text/plain": [
       "<Figure size 720x720 with 1 Axes>"
      ]
     },
     "metadata": {},
     "output_type": "display_data"
    }
   ],
   "source": [
    "explode = [0,0,0,0,0,0,0,0,0,0,0,0,0,0]\n",
    "sizes = rating_counts.values\n",
    "\n",
    "# visual\n",
    "plt.figure(figsize = (10,10))\n",
    "plt.pie(sizes, explode=explode, labels=rating_counts.index, autopct='%1.1f%%')\n",
    "plt.title('Ratings for Movies And Shows',fontsize = 15)\n",
    "plt.show()"
   ]
  },
  {
   "cell_type": "code",
   "execution_count": 58,
   "metadata": {
    "execution": {
     "iopub.execute_input": "2021-03-05T13:22:42.254692Z",
     "iopub.status.busy": "2021-03-05T13:22:42.253565Z",
     "iopub.status.idle": "2021-03-05T13:22:42.570931Z",
     "shell.execute_reply": "2021-03-05T13:22:42.571429Z"
    },
    "papermill": {
     "duration": 0.375403,
     "end_time": "2021-03-05T13:22:42.571609",
     "exception": false,
     "start_time": "2021-03-05T13:22:42.196206",
     "status": "completed"
    },
    "tags": []
   },
   "outputs": [
    {
     "data": {
      "image/png": "[encoded data removed]",
      "text/plain": [
       "<Figure size 864x576 with 1 Axes>"
      ]
     },
     "metadata": {
      "needs_background": "light"
     },
     "output_type": "display_data"
    }
   ],
   "source": [
    "#Type - rating \n",
    "plt.figure(figsize = (12,8))\n",
    "sns.countplot(x='rating',data = netflix,hue='type',palette=\"Set2\")\n",
    "plt.xlabel(\"Rating\")\n",
    "plt.ylabel(\"Total Count\")\n",
    "plt.show()"
   ]
  },
  {
   "cell_type": "markdown",
   "metadata": {
    "papermill": {
     "duration": 0.050862,
     "end_time": "2021-03-05T13:22:42.672942",
     "exception": false,
     "start_time": "2021-03-05T13:22:42.622080",
     "status": "completed"
    },
    "tags": []
   },
   "source": [
    "### Year wise analysis"
   ]
  },
  {
   "cell_type": "code",
   "execution_count": 61,
   "metadata": {
    "execution": {
     "iopub.execute_input": "2021-03-05T13:22:42.784519Z",
     "iopub.status.busy": "2021-03-05T13:22:42.783812Z",
     "iopub.status.idle": "2021-03-05T13:22:43.706017Z",
     "shell.execute_reply": "2021-03-05T13:22:43.706661Z"
    },
    "papermill": {
     "duration": 0.983845,
     "end_time": "2021-03-05T13:22:43.706833",
     "exception": false,
     "start_time": "2021-03-05T13:22:42.722988",
     "status": "completed"
    },
    "tags": []
   },
   "outputs": [
    {
     "name": "stdout",
     "output_type": "stream",
     "text": [
      "2018    1121\n",
      "2017    1012\n",
      "2019     996\n",
      "2016     882\n",
      "2020     868\n",
      "        ... \n",
      "1959       1\n",
      "1966       1\n",
      "1925       1\n",
      "1964       1\n",
      "1947       1\n",
      "Name: release_year, Length: 73, dtype: int64\n"
     ]
    },
    {
     "data": {
      "image/png": "[encoded data removed]",
      "text/plain": [
       "<Figure size 2520x576 with 1 Axes>"
      ]
     },
     "metadata": {
      "needs_background": "light"
     },
     "output_type": "display_data"
    }
   ],
   "source": [
    "release_year_counts = netflix.release_year.value_counts()\n",
    "print(release_year_counts)\n",
    "plt.figure(figsize = (35,8))\n",
    "sns.countplot(netflix.release_year, order = release_year_counts.index[0:94],palette=\"Set2\")\n",
    "plt.show()"
   ]
  },
  {
   "cell_type": "markdown",
   "metadata": {
    "papermill": {
     "duration": 0.055512,
     "end_time": "2021-03-05T13:22:43.820733",
     "exception": false,
     "start_time": "2021-03-05T13:22:43.765221",
     "status": "completed"
    },
    "tags": []
   },
   "source": [
    "> As we can see most of the movies and Tv shows on Netflix are released in 2018.Let's see which month directors prefer most to release their Movies & Tv Shows."
   ]
  },
  {
   "cell_type": "code",
   "execution_count": 62,
   "metadata": {
    "execution": {
     "iopub.execute_input": "2021-03-05T13:22:43.929254Z",
     "iopub.status.busy": "2021-03-05T13:22:43.928494Z",
     "iopub.status.idle": "2021-03-05T13:22:44.168996Z",
     "shell.execute_reply": "2021-03-05T13:22:44.169575Z"
    },
    "papermill": {
     "duration": 0.296146,
     "end_time": "2021-03-05T13:22:44.169727",
     "exception": false,
     "start_time": "2021-03-05T13:22:43.873581",
     "status": "completed"
    },
    "tags": []
   },
   "outputs": [
    {
     "data": {
      "image/png": "[encoded data removed]",
      "text/plain": [
       "<Figure size 1440x432 with 1 Axes>"
      ]
     },
     "metadata": {
      "needs_background": "light"
     },
     "output_type": "display_data"
    }
   ],
   "source": [
    "plt.figure(figsize=(20,6))\n",
    "sns.countplot(x=\"release_month\",data= netflix,order = netflix['release_month'].value_counts().index[0:12],palette=\"Set2\")\n",
    "plt.xticks(rotation=45)\n",
    "plt.show()"
   ]
  },
  {
   "cell_type": "markdown",
   "metadata": {
    "papermill": {
     "duration": 0.055847,
     "end_time": "2021-03-05T13:22:44.280777",
     "exception": false,
     "start_time": "2021-03-05T13:22:44.224930",
     "status": "completed"
    },
    "tags": []
   },
   "source": [
    "### Countries with the most content available"
   ]
  },
  {
   "cell_type": "code",
   "execution_count": 69,
   "metadata": {
    "execution": {
     "iopub.execute_input": "2021-03-05T13:22:44.391694Z",
     "iopub.status.busy": "2021-03-05T13:22:44.390883Z",
     "iopub.status.idle": "2021-03-05T13:22:44.748410Z",
     "shell.execute_reply": "2021-03-05T13:22:44.748948Z"
    },
    "papermill": {
     "duration": 0.41489,
     "end_time": "2021-03-05T13:22:44.749138",
     "exception": false,
     "start_time": "2021-03-05T13:22:44.334248",
     "status": "completed"
    },
    "tags": []
   },
   "outputs": [
    {
     "name": "stdout",
     "output_type": "stream",
     "text": [
      "United States     3062\n",
      "India              923\n",
      "United Kingdom     397\n",
      "Japan              226\n",
      "South Korea        183\n",
      "Name: country, dtype: int64\n"
     ]
    },
    {
     "data": {
      "image/png": "[encoded data removed]",
      "text/plain": [
       "<Figure size 1440x432 with 1 Axes>"
      ]
     },
     "metadata": {
      "needs_background": "light"
     },
     "output_type": "display_data"
    }
   ],
   "source": [
    "print(netflix[\"country\"].value_counts().head())\n",
    "plt.figure(figsize=(20,6))\n",
    "sns.countplot(x=\"country\",data= netflix,hue= \"type\",order = .index[0:15],palette=\"Set2\")\n",
    "plt.xticks(rotation=45)\n",
    "plt.show()"
   ]
  },
  {
   "cell_type": "markdown",
   "metadata": {
    "papermill": {
     "duration": 0.054921,
     "end_time": "2021-03-05T13:22:44.858266",
     "exception": false,
     "start_time": "2021-03-05T13:22:44.803345",
     "status": "completed"
    },
    "tags": []
   },
   "source": [
    "> Unsurprisingly, the United States stands out because Netflix is an American company. India surprisingly ranks second in the film, followed by the UK."
   ]
  },
  {
   "cell_type": "markdown",
   "metadata": {
    "papermill": {
     "duration": 0.056922,
     "end_time": "2021-03-05T13:22:44.972394",
     "exception": false,
     "start_time": "2021-03-05T13:22:44.915472",
     "status": "completed"
    },
    "tags": []
   },
   "source": [
    "### Top 10 Genres of Movies"
   ]
  },
  {
   "cell_type": "code",
   "execution_count": 70,
   "metadata": {
    "execution": {
     "iopub.execute_input": "2021-03-05T13:22:45.086287Z",
     "iopub.status.busy": "2021-03-05T13:22:45.085607Z",
     "iopub.status.idle": "2021-03-05T13:22:45.328637Z",
     "shell.execute_reply": "2021-03-05T13:22:45.328033Z"
    },
    "papermill": {
     "duration": 0.30143,
     "end_time": "2021-03-05T13:22:45.328758",
     "exception": false,
     "start_time": "2021-03-05T13:22:45.027328",
     "status": "completed"
    },
    "tags": []
   },
   "outputs": [
    {
     "name": "stdout",
     "output_type": "stream",
     "text": [
      "Documentaries                                       334\n",
      "Stand-Up Comedy                                     321\n",
      "Dramas, International Movies                        320\n",
      "Comedies, Dramas, International Movies              243\n",
      "Dramas, Independent Movies, International Movies    215\n",
      "Children & Family Movies                            177\n",
      "Documentaries, International Movies                 172\n",
      "Children & Family Movies, Comedies                  169\n",
      "Comedies, International Movies                      161\n",
      "Dramas, International Movies, Romantic Movies       153\n",
      "Name: listed_in, dtype: int64\n"
     ]
    },
    {
     "data": {
      "image/png": "[encoded data removed]",
      "text/plain": [
       "<Figure size 864x432 with 1 Axes>"
      ]
     },
     "metadata": {
      "needs_background": "light"
     },
     "output_type": "display_data"
    }
   ],
   "source": [
    "print(netflix_movies[\"listed_in\"].value_counts()[:10])\n",
    "plt.figure(figsize=(12,6))\n",
    "sns.countplot(y='listed_in',data = netflix_movies,order =netflix_movies[\"listed_in\"].value_counts().index[0:10],palette=\"Set2\")\n",
    "plt.title(\"Top 10 Genres of Movies\",size=18)\n",
    "plt.show()\n"
   ]
  },
  {
   "cell_type": "markdown",
   "metadata": {
    "papermill": {
     "duration": 0.056064,
     "end_time": "2021-03-05T13:22:45.441427",
     "exception": false,
     "start_time": "2021-03-05T13:22:45.385363",
     "status": "completed"
    },
    "tags": []
   },
   "source": [
    ">Let's see the same thing in tv shows"
   ]
  },
  {
   "cell_type": "markdown",
   "metadata": {
    "papermill": {
     "duration": 0.10638,
     "end_time": "2021-03-05T13:22:45.604298",
     "exception": false,
     "start_time": "2021-03-05T13:22:45.497918",
     "status": "completed"
    },
    "tags": []
   },
   "source": [
    "### Top 10 Genres of Tv Shows"
   ]
  },
  {
   "cell_type": "code",
   "execution_count": 72,
   "metadata": {
    "execution": {
     "iopub.execute_input": "2021-03-05T13:22:45.731660Z",
     "iopub.status.busy": "2021-03-05T13:22:45.730893Z",
     "iopub.status.idle": "2021-03-05T13:22:45.969442Z",
     "shell.execute_reply": "2021-03-05T13:22:45.968858Z"
    },
    "papermill": {
     "duration": 0.304838,
     "end_time": "2021-03-05T13:22:45.969578",
     "exception": false,
     "start_time": "2021-03-05T13:22:45.664740",
     "status": "completed"
    },
    "tags": []
   },
   "outputs": [
    {
     "name": "stdout",
     "output_type": "stream",
     "text": [
      "Kids' TV                                                      205\n",
      "International TV Shows, TV Dramas                             111\n",
      "Crime TV Shows, International TV Shows, TV Dramas             106\n",
      "Kids' TV, TV Comedies                                          90\n",
      "International TV Shows, Romantic TV Shows, TV Dramas           86\n",
      "Reality TV                                                     83\n",
      "International TV Shows, Romantic TV Shows, TV Comedies         79\n",
      "Anime Series, International TV Shows                           75\n",
      "Docuseries                                                     74\n",
      "International TV Shows, Korean TV Shows, Romantic TV Shows     65\n",
      "Name: listed_in, dtype: int64\n"
     ]
    },
    {
     "data": {
      "image/png": "[encoded data removed]",
      "text/plain": [
       "<Figure size 864x432 with 1 Axes>"
      ]
     },
     "metadata": {
      "needs_background": "light"
     },
     "output_type": "display_data"
    }
   ],
   "source": [
    "print(netflix_shows[\"listed_in\"].value_counts()[:10])\n",
    "plt.figure(figsize=(12,6))\n",
    "sns.countplot(y='listed_in',data = netflix_shows,order =netflix_shows[\"listed_in\"].value_counts().index[0:10],palette=\"Set2\")\n",
    "plt.title(\"Top 10 Genres of Tv Shows\",size=18)\n",
    "plt.show()\n"
   ]
  },
  {
   "cell_type": "markdown",
   "metadata": {
    "papermill": {
     "duration": 0.057998,
     "end_time": "2021-03-05T13:22:46.090823",
     "exception": false,
     "start_time": "2021-03-05T13:22:46.032825",
     "status": "completed"
    },
    "tags": []
   },
   "source": [
    "### Analysis of duration of movies and Tv Shows"
   ]
  },
  {
   "cell_type": "code",
   "execution_count": 73,
   "metadata": {
    "execution": {
     "iopub.execute_input": "2021-03-05T13:22:46.224039Z",
     "iopub.status.busy": "2021-03-05T13:22:46.223237Z",
     "iopub.status.idle": "2021-03-05T13:22:46.236139Z",
     "shell.execute_reply": "2021-03-05T13:22:46.235485Z"
    },
    "papermill": {
     "duration": 0.086625,
     "end_time": "2021-03-05T13:22:46.236261",
     "exception": false,
     "start_time": "2021-03-05T13:22:46.149636",
     "status": "completed"
    },
    "tags": []
   },
   "outputs": [],
   "source": [
    "netflix_movies.duration = netflix_movies.duration.str.replace(' min','').astype(int)\n",
    "netflix_shows.rename(columns={'duration':'seasons'}, inplace=True)\n",
    "netflix_shows.replace({'seasons':{'1 Season':'1 Seasons'}}, inplace=True)\n",
    "netflix_shows.seasons = netflix_shows.seasons.str.replace(' Seasons','').astype(int)"
   ]
  },
  {
   "cell_type": "code",
   "execution_count": 75,
   "metadata": {
    "execution": {
     "iopub.execute_input": "2021-03-05T13:22:46.364006Z",
     "iopub.status.busy": "2021-03-05T13:22:46.363257Z",
     "iopub.status.idle": "2021-03-05T13:22:46.980041Z",
     "shell.execute_reply": "2021-03-05T13:22:46.979452Z"
    },
    "papermill": {
     "duration": 0.685623,
     "end_time": "2021-03-05T13:22:46.980157",
     "exception": false,
     "start_time": "2021-03-05T13:22:46.294534",
     "status": "completed"
    },
    "tags": []
   },
   "outputs": [
    {
     "data": {
      "image/png": "[encoded data removed]",
      "text/plain": [
       "<Figure size 1368x360 with 2 Axes>"
      ]
     },
     "metadata": {
      "needs_background": "light"
     },
     "output_type": "display_data"
    }
   ],
   "source": [
    "fig, ax = plt.subplots(1,2, figsize=(19, 5))\n",
    "g1 = sns.distplot(netflix_movies.duration,ax=ax[0]);\n",
    "g1.set_xticks(np.arange(0,360,30))\n",
    "g1.set_title(\"Duration Distribution for Netflix Movies\")\n",
    "g1.set_ylabel(\"% of All Netflix Movies\")\n",
    "g1.set_xlabel(\"Duration (minutes)\")\n",
    "g2 = sns.countplot(netflix_shows.seasons,ax=ax[1],palette=\"Set2\");\n",
    "g2.set_title(\"Netflix TV Shows Seasons\")\n",
    "g2.set_ylabel(\"Count\")\n",
    "g2.set_xlabel(\"Season(s)\")\n",
    "fig.show()"
   ]
  },
  {
   "cell_type": "markdown",
   "metadata": {
    "papermill": {
     "duration": 0.058666,
     "end_time": "2021-03-05T13:22:47.099249",
     "exception": false,
     "start_time": "2021-03-05T13:22:47.040583",
     "status": "completed"
    },
    "tags": []
   },
   "source": [
    "> As you can see, movies are usually between 75-120 minutes and TV shows are usually 1 season."
   ]
  },
  {
   "cell_type": "markdown",
   "metadata": {
    "papermill": {
     "duration": 0.066879,
     "end_time": "2021-03-05T13:22:47.225910",
     "exception": false,
     "start_time": "2021-03-05T13:22:47.159031",
     "status": "completed"
    },
    "tags": []
   },
   "source": [
    "### Oldest movies available on netflix"
   ]
  },
  {
   "cell_type": "code",
   "execution_count": 76,
   "metadata": {
    "execution": {
     "iopub.execute_input": "2021-03-05T13:22:47.352557Z",
     "iopub.status.busy": "2021-03-05T13:22:47.351833Z",
     "iopub.status.idle": "2021-03-05T13:22:47.365749Z",
     "shell.execute_reply": "2021-03-05T13:22:47.366258Z"
    },
    "papermill": {
     "duration": 0.080874,
     "end_time": "2021-03-05T13:22:47.366422",
     "exception": false,
     "start_time": "2021-03-05T13:22:47.285548",
     "status": "completed"
    },
    "tags": []
   },
   "outputs": [
    {
     "data": {
      "text/html": [
       "<div>\n",
       "<style scoped>\n",
       "    .dataframe tbody tr th:only-of-type {\n",
       "        vertical-align: middle;\n",
       "    }\n",
       "\n",
       "    .dataframe tbody tr th {\n",
       "        vertical-align: top;\n",
       "    }\n",
       "\n",
       "    .dataframe thead th {\n",
       "        text-align: right;\n",
       "    }\n",
       "</style>\n",
       "<table border=\"1\" class=\"dataframe\">\n",
       "  <thead>\n",
       "    <tr style=\"text-align: right;\">\n",
       "      <th></th>\n",
       "      <th>title</th>\n",
       "      <th>release_year</th>\n",
       "    </tr>\n",
       "  </thead>\n",
       "  <tbody>\n",
       "    <tr>\n",
       "      <th>4867</th>\n",
       "      <td>Pioneers: First Women Filmmakers*</td>\n",
       "      <td>1925</td>\n",
       "    </tr>\n",
       "    <tr>\n",
       "      <th>6117</th>\n",
       "      <td>The Battle of Midway</td>\n",
       "      <td>1942</td>\n",
       "    </tr>\n",
       "    <tr>\n",
       "      <th>4960</th>\n",
       "      <td>Prelude to War</td>\n",
       "      <td>1942</td>\n",
       "    </tr>\n",
       "    <tr>\n",
       "      <th>7679</th>\n",
       "      <td>WWII: Report from the Aleutians</td>\n",
       "      <td>1943</td>\n",
       "    </tr>\n",
       "    <tr>\n",
       "      <th>7342</th>\n",
       "      <td>Undercover: How to Operate Behind Enemy Lines</td>\n",
       "      <td>1943</td>\n",
       "    </tr>\n",
       "    <tr>\n",
       "      <th>7616</th>\n",
       "      <td>Why We Fight: The Battle of Russia</td>\n",
       "      <td>1943</td>\n",
       "    </tr>\n",
       "    <tr>\n",
       "      <th>7268</th>\n",
       "      <td>Tunisian Victory</td>\n",
       "      <td>1944</td>\n",
       "    </tr>\n",
       "    <tr>\n",
       "      <th>6699</th>\n",
       "      <td>The Negro Soldier</td>\n",
       "      <td>1944</td>\n",
       "    </tr>\n",
       "    <tr>\n",
       "      <th>6657</th>\n",
       "      <td>The Memphis Belle: A Story of a\\nFlying Fortress</td>\n",
       "      <td>1944</td>\n",
       "    </tr>\n",
       "    <tr>\n",
       "      <th>5371</th>\n",
       "      <td>San Pietro</td>\n",
       "      <td>1945</td>\n",
       "    </tr>\n",
       "  </tbody>\n",
       "</table>\n",
       "</div>"
      ],
      "text/plain": [
       "                                                 title  release_year\n",
       "4867                 Pioneers: First Women Filmmakers*          1925\n",
       "6117                              The Battle of Midway          1942\n",
       "4960                                    Prelude to War          1942\n",
       "7679                   WWII: Report from the Aleutians          1943\n",
       "7342     Undercover: How to Operate Behind Enemy Lines          1943\n",
       "7616                Why We Fight: The Battle of Russia          1943\n",
       "7268                                  Tunisian Victory          1944\n",
       "6699                                 The Negro Soldier          1944\n",
       "6657  The Memphis Belle: A Story of a\\nFlying Fortress          1944\n",
       "5371                                        San Pietro          1945"
      ]
     },
     "execution_count": 76,
     "metadata": {},
     "output_type": "execute_result"
    }
   ],
   "source": [
    "oldest = netflix.sort_values(\"release_year\", ascending = True) \n",
    "oldest[['title', \"release_year\"]][:10]"
   ]
  },
  {
   "cell_type": "markdown",
   "metadata": {
    "papermill": {
     "duration": 0.06021,
     "end_time": "2021-03-05T13:22:47.608903",
     "exception": false,
     "start_time": "2021-03-05T13:22:47.548693",
     "status": "completed"
    },
    "tags": []
   },
   "source": [
    "### Standup shows on Netflix\n"
   ]
  },
  {
   "cell_type": "code",
   "execution_count": 78,
   "metadata": {
    "execution": {
     "iopub.execute_input": "2021-03-05T13:22:47.732898Z",
     "iopub.status.busy": "2021-03-05T13:22:47.732228Z",
     "iopub.status.idle": "2021-03-05T13:22:47.748484Z",
     "shell.execute_reply": "2021-03-05T13:22:47.747933Z"
    },
    "papermill": {
     "duration": 0.078879,
     "end_time": "2021-03-05T13:22:47.748629",
     "exception": false,
     "start_time": "2021-03-05T13:22:47.669750",
     "status": "completed"
    },
    "tags": []
   },
   "outputs": [
    {
     "data": {
      "text/html": [
       "<div>\n",
       "<style scoped>\n",
       "    .dataframe tbody tr th:only-of-type {\n",
       "        vertical-align: middle;\n",
       "    }\n",
       "\n",
       "    .dataframe tbody tr th {\n",
       "        vertical-align: top;\n",
       "    }\n",
       "\n",
       "    .dataframe thead th {\n",
       "        text-align: right;\n",
       "    }\n",
       "</style>\n",
       "<table border=\"1\" class=\"dataframe\">\n",
       "  <thead>\n",
       "    <tr style=\"text-align: right;\">\n",
       "      <th></th>\n",
       "      <th>title</th>\n",
       "      <th>country</th>\n",
       "      <th>release_year</th>\n",
       "    </tr>\n",
       "  </thead>\n",
       "  <tbody>\n",
       "    <tr>\n",
       "      <th>220</th>\n",
       "      <td>A Russell Peters Christmas</td>\n",
       "      <td>Canada</td>\n",
       "      <td>2011</td>\n",
       "    </tr>\n",
       "    <tr>\n",
       "      <th>305</th>\n",
       "      <td>Adam Devine: Best Time of Our Lives</td>\n",
       "      <td>United States</td>\n",
       "      <td>2019</td>\n",
       "    </tr>\n",
       "    <tr>\n",
       "      <th>307</th>\n",
       "      <td>ADAM SANDLER 100% FRESH</td>\n",
       "      <td>United States</td>\n",
       "      <td>2018</td>\n",
       "    </tr>\n",
       "    <tr>\n",
       "      <th>310</th>\n",
       "      <td>Adel Karam: Live from Beirut</td>\n",
       "      <td>United States</td>\n",
       "      <td>2018</td>\n",
       "    </tr>\n",
       "    <tr>\n",
       "      <th>312</th>\n",
       "      <td>Aditi Mittal: Things They Wouldn't Let Me Say</td>\n",
       "      <td>India</td>\n",
       "      <td>2017</td>\n",
       "    </tr>\n",
       "    <tr>\n",
       "      <th>320</th>\n",
       "      <td>Afonso Padilha: Classless</td>\n",
       "      <td>Brazil</td>\n",
       "      <td>2020</td>\n",
       "    </tr>\n",
       "    <tr>\n",
       "      <th>344</th>\n",
       "      <td>Agustín Aristarán: Soy Rada</td>\n",
       "      <td>Argentina</td>\n",
       "      <td>2018</td>\n",
       "    </tr>\n",
       "    <tr>\n",
       "      <th>370</th>\n",
       "      <td>Alan Saldaña: Mi vida de pobre</td>\n",
       "      <td>Mexico</td>\n",
       "      <td>2017</td>\n",
       "    </tr>\n",
       "    <tr>\n",
       "      <th>375</th>\n",
       "      <td>Alejandro Riaño: Especial de stand up</td>\n",
       "      <td>Colombia</td>\n",
       "      <td>2018</td>\n",
       "    </tr>\n",
       "    <tr>\n",
       "      <th>378</th>\n",
       "      <td>Alex Fernández: The Best Comedian in the World</td>\n",
       "      <td>Mexico</td>\n",
       "      <td>2020</td>\n",
       "    </tr>\n",
       "  </tbody>\n",
       "</table>\n",
       "</div>"
      ],
      "text/plain": [
       "                                              title        country  \\\n",
       "220                      A Russell Peters Christmas         Canada   \n",
       "305             Adam Devine: Best Time of Our Lives  United States   \n",
       "307                         ADAM SANDLER 100% FRESH  United States   \n",
       "310                    Adel Karam: Live from Beirut  United States   \n",
       "312   Aditi Mittal: Things They Wouldn't Let Me Say          India   \n",
       "320                       Afonso Padilha: Classless         Brazil   \n",
       "344                     Agustín Aristarán: Soy Rada      Argentina   \n",
       "370                  Alan Saldaña: Mi vida de pobre         Mexico   \n",
       "375           Alejandro Riaño: Especial de stand up       Colombia   \n",
       "378  Alex Fernández: The Best Comedian in the World         Mexico   \n",
       "\n",
       "     release_year  \n",
       "220          2011  \n",
       "305          2019  \n",
       "307          2018  \n",
       "310          2018  \n",
       "312          2017  \n",
       "320          2020  \n",
       "344          2018  \n",
       "370          2017  \n",
       "375          2018  \n",
       "378          2020  "
      ]
     },
     "execution_count": 78,
     "metadata": {},
     "output_type": "execute_result"
    }
   ],
   "source": [
    "standup=netflix[netflix[\"listed_in\"] == \"Stand-Up Comedy\"]\n",
    "standup[[\"title\",\"country\",\"release_year\"]].head(10)"
   ]
  },
  {
   "cell_type": "markdown",
   "metadata": {
    "papermill": {
     "duration": 0.061612,
     "end_time": "2021-03-05T13:22:47.993300",
     "exception": false,
     "start_time": "2021-03-05T13:22:47.931688",
     "status": "completed"
    },
    "tags": []
   },
   "source": [
    "### Kids TV shows on Netflix"
   ]
  },
  {
   "cell_type": "code",
   "execution_count": 79,
   "metadata": {
    "execution": {
     "iopub.execute_input": "2021-03-05T13:22:48.131436Z",
     "iopub.status.busy": "2021-03-05T13:22:48.130761Z",
     "iopub.status.idle": "2021-03-05T13:22:48.134045Z",
     "shell.execute_reply": "2021-03-05T13:22:48.134592Z"
    },
    "papermill": {
     "duration": 0.079546,
     "end_time": "2021-03-05T13:22:48.134751",
     "exception": false,
     "start_time": "2021-03-05T13:22:48.055205",
     "status": "completed"
    },
    "tags": []
   },
   "outputs": [
    {
     "data": {
      "text/html": [
       "<div>\n",
       "<style scoped>\n",
       "    .dataframe tbody tr th:only-of-type {\n",
       "        vertical-align: middle;\n",
       "    }\n",
       "\n",
       "    .dataframe tbody tr th {\n",
       "        vertical-align: top;\n",
       "    }\n",
       "\n",
       "    .dataframe thead th {\n",
       "        text-align: right;\n",
       "    }\n",
       "</style>\n",
       "<table border=\"1\" class=\"dataframe\">\n",
       "  <thead>\n",
       "    <tr style=\"text-align: right;\">\n",
       "      <th></th>\n",
       "      <th>title</th>\n",
       "      <th>country</th>\n",
       "      <th>release_year</th>\n",
       "    </tr>\n",
       "  </thead>\n",
       "  <tbody>\n",
       "    <tr>\n",
       "      <th>111</th>\n",
       "      <td>44 Cats</td>\n",
       "      <td>Italy</td>\n",
       "      <td>2018</td>\n",
       "    </tr>\n",
       "    <tr>\n",
       "      <th>276</th>\n",
       "      <td>Abby Hatcher</td>\n",
       "      <td>United States, Canada</td>\n",
       "      <td>2019</td>\n",
       "    </tr>\n",
       "    <tr>\n",
       "      <th>434</th>\n",
       "      <td>Alphablocks</td>\n",
       "      <td>United Kingdom</td>\n",
       "      <td>2014</td>\n",
       "    </tr>\n",
       "    <tr>\n",
       "      <th>598</th>\n",
       "      <td>Ask the StoryBots</td>\n",
       "      <td>United States</td>\n",
       "      <td>2019</td>\n",
       "    </tr>\n",
       "    <tr>\n",
       "      <th>706</th>\n",
       "      <td>Bal Ganesh</td>\n",
       "      <td>United States</td>\n",
       "      <td>2019</td>\n",
       "    </tr>\n",
       "    <tr>\n",
       "      <th>735</th>\n",
       "      <td>Barbie Dreamhouse Adventures</td>\n",
       "      <td>United States, Canada</td>\n",
       "      <td>2018</td>\n",
       "    </tr>\n",
       "    <tr>\n",
       "      <th>736</th>\n",
       "      <td>Barbie Dreamhouse Adventures: Go Team Roberts</td>\n",
       "      <td>United States</td>\n",
       "      <td>2020</td>\n",
       "    </tr>\n",
       "    <tr>\n",
       "      <th>760</th>\n",
       "      <td>Bat Pat</td>\n",
       "      <td>Italy</td>\n",
       "      <td>2016</td>\n",
       "    </tr>\n",
       "    <tr>\n",
       "      <th>779</th>\n",
       "      <td>Be-Be-Bears</td>\n",
       "      <td>Russia</td>\n",
       "      <td>2018</td>\n",
       "    </tr>\n",
       "    <tr>\n",
       "      <th>786</th>\n",
       "      <td>Beat Bugs</td>\n",
       "      <td>Australia, Canada</td>\n",
       "      <td>2018</td>\n",
       "    </tr>\n",
       "  </tbody>\n",
       "</table>\n",
       "</div>"
      ],
      "text/plain": [
       "                                             title                country  \\\n",
       "111                                        44 Cats                  Italy   \n",
       "276                                   Abby Hatcher  United States, Canada   \n",
       "434                                    Alphablocks         United Kingdom   \n",
       "598                              Ask the StoryBots          United States   \n",
       "706                                     Bal Ganesh          United States   \n",
       "735                   Barbie Dreamhouse Adventures  United States, Canada   \n",
       "736  Barbie Dreamhouse Adventures: Go Team Roberts          United States   \n",
       "760                                        Bat Pat                  Italy   \n",
       "779                                    Be-Be-Bears                 Russia   \n",
       "786                                      Beat Bugs      Australia, Canada   \n",
       "\n",
       "     release_year  \n",
       "111          2018  \n",
       "276          2019  \n",
       "434          2014  \n",
       "598          2019  \n",
       "706          2019  \n",
       "735          2018  \n",
       "736          2020  \n",
       "760          2016  \n",
       "779          2018  \n",
       "786          2018  "
      ]
     },
     "execution_count": 79,
     "metadata": {},
     "output_type": "execute_result"
    }
   ],
   "source": [
    "kids=netflix[netflix[\"listed_in\"] == \"Kids' TV\"]\n",
    "kids[[\"title\",\"country\",\"release_year\"]].head(10)"
   ]
  },
  {
   "cell_type": "code",
   "execution_count": null,
   "metadata": {},
   "outputs": [],
   "source": []
  }
 ],
 "metadata": {
  "kernelspec": {
   "display_name": "Python 3",
   "language": "python",
   "name": "python3"
  },
  "language_info": {
   "codemirror_mode": {
    "name": "ipython",
    "version": 3
   },
   "file_extension": ".py",
   "mimetype": "text/x-python",
   "name": "python",
   "nbconvert_exporter": "python",
   "pygments_lexer": "ipython3",
   "version": "3.8.8"
  },
  "papermill": {
   "duration": 18.083784,
   "end_time": "2021-03-05T13:22:48.557264",
   "environment_variables": {},
   "exception": null,
   "input_path": "__notebook__.ipynb",
   "output_path": "__notebook__.ipynb",
   "parameters": {},
   "start_time": "2021-03-05T13:22:30.473480",
   "version": "2.1.0"
  }
 },
 "nbformat": 4,
 "nbformat_minor": 4
}
